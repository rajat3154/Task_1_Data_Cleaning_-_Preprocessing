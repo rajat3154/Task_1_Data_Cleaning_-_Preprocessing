{
 "cells": [
  {
   "cell_type": "markdown",
   "id": "aa7e2a15-a4c7-459d-b41f-89974d65fe0c",
   "metadata": {},
   "source": [
    "# Titanic Data Cleaning & Preprocessing\r\n",
    "\r\n",
    "This notebook walks through the data cleaning and preprocessing of the Titanic dataset to prepare it for machine learning modeling. We focus on producing clean, consistent, and insightful data representations.\r\n",
    "\r\n",
    "---\r",
    "Importing Librariess Used\r\n",
    "\r\n",
    "- **Python**\r\n",
    "- **Pandas** for data manipulation\r\n",
    "- **NumPy** for numerical operations\r\n",
    "- **Matplotlib / Seaborn** for data visualization\r\n",
    "- **Scikit-learn** for scaling\r\n",
    "\r\n",
    "---"
   ]
  },
  {
   "cell_type": "code",
   "execution_count": 40,
   "id": "f295df93-92eb-4017-ba0e-0ee24402ba87",
   "metadata": {},
   "outputs": [],
   "source": [
    "import pandas as pd\n",
    "import numpy as np\n",
    "import matplotlib.pyplot as plt\n",
    "import seaborn as sns"
   ]
  },
  {
   "cell_type": "code",
   "execution_count": 22,
   "id": "fe1b1b40-10f4-41b0-886d-096b6ed5ad49",
   "metadata": {},
   "outputs": [],
   "source": [
    "sns.set(style='whitegrid')"
   ]
  },
  {
   "cell_type": "markdown",
   "id": "c8f57f67-3469-4809-96e8-f4d639ee5c25",
   "metadata": {},
   "source": [
    "---\n",
    "## Step 1: Load and Preview the Dataset\r\n",
    "\r\n",
    "Load the raw Titanic dataset using `pandas.read_csv()` and view the first few rows to understand the structure and content.\r\n",
    "\r\n",
    "---"
   ]
  },
  {
   "cell_type": "code",
   "execution_count": 24,
   "id": "9c1cd6fa-c2c7-4086-aa16-bf915d8dfd84",
   "metadata": {},
   "outputs": [
    {
     "data": {
      "text/html": [
       "<div>\n",
       "<style scoped>\n",
       "    .dataframe tbody tr th:only-of-type {\n",
       "        vertical-align: middle;\n",
       "    }\n",
       "\n",
       "    .dataframe tbody tr th {\n",
       "        vertical-align: top;\n",
       "    }\n",
       "\n",
       "    .dataframe thead th {\n",
       "        text-align: right;\n",
       "    }\n",
       "</style>\n",
       "<table border=\"1\" class=\"dataframe\">\n",
       "  <thead>\n",
       "    <tr style=\"text-align: right;\">\n",
       "      <th></th>\n",
       "      <th>PassengerId</th>\n",
       "      <th>Survived</th>\n",
       "      <th>Pclass</th>\n",
       "      <th>Name</th>\n",
       "      <th>Sex</th>\n",
       "      <th>Age</th>\n",
       "      <th>SibSp</th>\n",
       "      <th>Parch</th>\n",
       "      <th>Ticket</th>\n",
       "      <th>Fare</th>\n",
       "      <th>Cabin</th>\n",
       "      <th>Embarked</th>\n",
       "    </tr>\n",
       "  </thead>\n",
       "  <tbody>\n",
       "    <tr>\n",
       "      <th>0</th>\n",
       "      <td>1</td>\n",
       "      <td>0</td>\n",
       "      <td>3</td>\n",
       "      <td>Braund, Mr. Owen Harris</td>\n",
       "      <td>male</td>\n",
       "      <td>22.0</td>\n",
       "      <td>1</td>\n",
       "      <td>0</td>\n",
       "      <td>A/5 21171</td>\n",
       "      <td>7.2500</td>\n",
       "      <td>NaN</td>\n",
       "      <td>S</td>\n",
       "    </tr>\n",
       "    <tr>\n",
       "      <th>1</th>\n",
       "      <td>2</td>\n",
       "      <td>1</td>\n",
       "      <td>1</td>\n",
       "      <td>Cumings, Mrs. John Bradley (Florence Briggs Th...</td>\n",
       "      <td>female</td>\n",
       "      <td>38.0</td>\n",
       "      <td>1</td>\n",
       "      <td>0</td>\n",
       "      <td>PC 17599</td>\n",
       "      <td>71.2833</td>\n",
       "      <td>C85</td>\n",
       "      <td>C</td>\n",
       "    </tr>\n",
       "    <tr>\n",
       "      <th>2</th>\n",
       "      <td>3</td>\n",
       "      <td>1</td>\n",
       "      <td>3</td>\n",
       "      <td>Heikkinen, Miss. Laina</td>\n",
       "      <td>female</td>\n",
       "      <td>26.0</td>\n",
       "      <td>0</td>\n",
       "      <td>0</td>\n",
       "      <td>STON/O2. 3101282</td>\n",
       "      <td>7.9250</td>\n",
       "      <td>NaN</td>\n",
       "      <td>S</td>\n",
       "    </tr>\n",
       "    <tr>\n",
       "      <th>3</th>\n",
       "      <td>4</td>\n",
       "      <td>1</td>\n",
       "      <td>1</td>\n",
       "      <td>Futrelle, Mrs. Jacques Heath (Lily May Peel)</td>\n",
       "      <td>female</td>\n",
       "      <td>35.0</td>\n",
       "      <td>1</td>\n",
       "      <td>0</td>\n",
       "      <td>113803</td>\n",
       "      <td>53.1000</td>\n",
       "      <td>C123</td>\n",
       "      <td>S</td>\n",
       "    </tr>\n",
       "    <tr>\n",
       "      <th>4</th>\n",
       "      <td>5</td>\n",
       "      <td>0</td>\n",
       "      <td>3</td>\n",
       "      <td>Allen, Mr. William Henry</td>\n",
       "      <td>male</td>\n",
       "      <td>35.0</td>\n",
       "      <td>0</td>\n",
       "      <td>0</td>\n",
       "      <td>373450</td>\n",
       "      <td>8.0500</td>\n",
       "      <td>NaN</td>\n",
       "      <td>S</td>\n",
       "    </tr>\n",
       "  </tbody>\n",
       "</table>\n",
       "</div>"
      ],
      "text/plain": [
       "   PassengerId  Survived  Pclass  \\\n",
       "0            1         0       3   \n",
       "1            2         1       1   \n",
       "2            3         1       3   \n",
       "3            4         1       1   \n",
       "4            5         0       3   \n",
       "\n",
       "                                                Name     Sex   Age  SibSp  \\\n",
       "0                            Braund, Mr. Owen Harris    male  22.0      1   \n",
       "1  Cumings, Mrs. John Bradley (Florence Briggs Th...  female  38.0      1   \n",
       "2                             Heikkinen, Miss. Laina  female  26.0      0   \n",
       "3       Futrelle, Mrs. Jacques Heath (Lily May Peel)  female  35.0      1   \n",
       "4                           Allen, Mr. William Henry    male  35.0      0   \n",
       "\n",
       "   Parch            Ticket     Fare Cabin Embarked  \n",
       "0      0         A/5 21171   7.2500   NaN        S  \n",
       "1      0          PC 17599  71.2833   C85        C  \n",
       "2      0  STON/O2. 3101282   7.9250   NaN        S  \n",
       "3      0            113803  53.1000  C123        S  \n",
       "4      0            373450   8.0500   NaN        S  "
      ]
     },
     "execution_count": 24,
     "metadata": {},
     "output_type": "execute_result"
    }
   ],
   "source": [
    "df = pd.read_csv('Titanic-Dataset.csv')\n",
    "df.head()"
   ]
  },
  {
   "cell_type": "markdown",
   "id": "f502ab87-d2e1-4c79-8033-f81bd4a35c82",
   "metadata": {},
   "source": [
    "## Step 2: Dataset Info & Missing Value Summary\r\n",
    "\r\n",
    "Use `df.info()` and `df.isnull().sum()` to:\r\n",
    "\r\n",
    "- Examine data types\r\n",
    "- Identify columns with missing values\r\n",
    "- Understand the completeness of each column\r\n",
    "\r\n",
    "---"
   ]
  },
  {
   "cell_type": "code",
   "execution_count": 25,
   "id": "9aef5f79-7edb-4478-9a50-fe5df0d7b46a",
   "metadata": {},
   "outputs": [
    {
     "name": "stdout",
     "output_type": "stream",
     "text": [
      "\n",
      "--- Data Info ---\n",
      "<class 'pandas.core.frame.DataFrame'>\n",
      "RangeIndex: 891 entries, 0 to 890\n",
      "Data columns (total 12 columns):\n",
      " #   Column       Non-Null Count  Dtype  \n",
      "---  ------       --------------  -----  \n",
      " 0   PassengerId  891 non-null    int64  \n",
      " 1   Survived     891 non-null    int64  \n",
      " 2   Pclass       891 non-null    int64  \n",
      " 3   Name         891 non-null    object \n",
      " 4   Sex          891 non-null    object \n",
      " 5   Age          714 non-null    float64\n",
      " 6   SibSp        891 non-null    int64  \n",
      " 7   Parch        891 non-null    int64  \n",
      " 8   Ticket       891 non-null    object \n",
      " 9   Fare         891 non-null    float64\n",
      " 10  Cabin        204 non-null    object \n",
      " 11  Embarked     889 non-null    object \n",
      "dtypes: float64(2), int64(5), object(5)\n",
      "memory usage: 83.7+ KB\n"
     ]
    }
   ],
   "source": [
    "print(\"\\n--- Data Info ---\")\n",
    "df.info()"
   ]
  },
  {
   "cell_type": "code",
   "execution_count": 26,
   "id": "978879bf-b6bf-4db5-95af-a08c2d32372e",
   "metadata": {},
   "outputs": [
    {
     "name": "stdout",
     "output_type": "stream",
     "text": [
      "\n",
      "--- Missing Values Summary ---\n",
      "PassengerId      0\n",
      "Survived         0\n",
      "Pclass           0\n",
      "Name             0\n",
      "Sex              0\n",
      "Age            177\n",
      "SibSp            0\n",
      "Parch            0\n",
      "Ticket           0\n",
      "Fare             0\n",
      "Cabin          687\n",
      "Embarked         2\n",
      "dtype: int64\n"
     ]
    }
   ],
   "source": [
    "print(\"\\n--- Missing Values Summary ---\")\n",
    "print(df.isnull().sum())"
   ]
  },
  {
   "cell_type": "markdown",
   "id": "630413cf-f8ad-4f61-b1ba-2bc82d92eacb",
   "metadata": {},
   "source": [
    "---\n",
    "## Step 3: Visualizing Missing Data\r\n",
    "\r\n",
    "A heatmap (via `seaborn.heatmap`) shows where missing data exists, helping visually assess data quality before deciding how to handle missingness.\r\n",
    "\r\n",
    "---"
   ]
  },
  {
   "cell_type": "code",
   "execution_count": 27,
   "id": "5e72b6d0-b5b5-41b4-9134-a9247634c8d3",
   "metadata": {},
   "outputs": [
    {
     "data": {
      "image/png": "[encoded data removed]",
      "text/plain": [
       "<Figure size 1000x600 with 1 Axes>"
      ]
     },
     "metadata": {},
     "output_type": "display_data"
    }
   ],
   "source": [
    "plt.figure(figsize=(10, 6))\n",
    "sns.heatmap(df.isnull(), cbar=False, cmap='viridis')\n",
    "plt.title('Missing Data Heatmap')\n",
    "plt.show()"
   ]
  },
  {
   "cell_type": "markdown",
   "id": "61d06ad6-bb67-43fc-85d3-ab99a2dd971f",
   "metadata": {},
   "source": [
    "---\n",
    "## Step 4: Handle Missing Valuess\r\n",
    "\r\n",
    "- **Age**: Fill missing values with the median age, grouped by `Pclass` and `Sex`.\r\n",
    "- **Embarked**: Fill with the most frequent port (mode).\r\n",
    "- **Cabin**: Dropped due to excessive missing values.\r\n",
    "\r\n",
    "---"
   ]
  },
  {
   "cell_type": "code",
   "execution_count": 28,
   "id": "c8d2543a-5fa9-4e48-84da-216a679fde29",
   "metadata": {},
   "outputs": [],
   "source": [
    "df['Age'] = df.groupby(['Pclass', 'Sex'])['Age'].transform(lambda x: x.fillna(x.median()))"
   ]
  },
  {
   "cell_type": "code",
   "execution_count": 29,
   "id": "705d1895-dfcc-4541-a0cb-6636bb79bd4b",
   "metadata": {},
   "outputs": [
    {
     "name": "stderr",
     "output_type": "stream",
     "text": [
      "C:\\Users\\rajat\\AppData\\Local\\Temp\\ipykernel_22080\\3744086084.py:1: FutureWarning: A value is trying to be set on a copy of a DataFrame or Series through chained assignment using an inplace method.\n",
      "The behavior will change in pandas 3.0. This inplace method will never work because the intermediate object on which we are setting values always behaves as a copy.\n",
      "\n",
      "For example, when doing 'df[col].method(value, inplace=True)', try using 'df.method({col: value}, inplace=True)' or df[col] = df[col].method(value) instead, to perform the operation inplace on the original object.\n",
      "\n",
      "\n",
      "  df['Embarked'].fillna(df['Embarked'].mode()[0], inplace=True)\n"
     ]
    }
   ],
   "source": [
    "df['Embarked'].fillna(df['Embarked'].mode()[0], inplace=True)"
   ]
  },
  {
   "cell_type": "code",
   "execution_count": 30,
   "id": "bc53b1ef-76d8-4ce6-be18-939d85332200",
   "metadata": {},
   "outputs": [],
   "source": [
    "df.drop(columns=['Cabin'], inplace=True)"
   ]
  },
  {
   "cell_type": "markdown",
   "id": "8dc35b5f-fc21-4dec-8b03-3216f6da70e8",
   "metadata": {},
   "source": [
    "---\n",
    "## Step 5: Encode Categorical Variabless\r\n",
    "\r\n",
    "Apply **One-Hot Encoding** to transform categorical variables into numerical format:\r\n",
    "\r\n",
    "- Convert `Sex` and `Embarked` into binary indicator variables.\r\n",
    "- Drop the first category to avoid multicollinearity.\r\n",
    "\r\n",
    "---"
   ]
  },
  {
   "cell_type": "code",
   "execution_count": 31,
   "id": "a243c63b-6dd3-41fc-87d2-ae0f62911340",
   "metadata": {},
   "outputs": [],
   "source": [
    "encoded_df = pd.get_dummies(df, columns=['Sex', 'Embarked'], drop_first=True)"
   ]
  },
  {
   "cell_type": "markdown",
   "id": "6e001272-e47d-43fd-a28c-c54b393a137c",
   "metadata": {},
   "source": [
    "---\n",
    "## Step 6: Feature Engineering)\r\n",
    "\r\n",
    "Create two meaningful new features:\r\n",
    "\r\n",
    "- **FamilySize**: Total family members on board = `SibSp + Parch + 1`\r\n",
    "- **IsAlone**: Binary flag where 1 = passenger traveled alone\r\n",
    "\r\n",
    "These features help capture social structure and survival influence.\r\n",
    "\r\n",
    "---"
   ]
  },
  {
   "cell_type": "code",
   "execution_count": 32,
   "id": "3c931862-9382-47c4-8ece-5f013caa6e6f",
   "metadata": {},
   "outputs": [],
   "source": [
    "encoded_df['FamilySize'] = encoded_df['SibSp'] + encoded_df['Parch'] + 1"
   ]
  },
  {
   "cell_type": "code",
   "execution_count": 33,
   "id": "11893fe4-2d62-4164-9102-3a9a991149e6",
   "metadata": {},
   "outputs": [],
   "source": [
    "encoded_df['IsAlone'] = (encoded_df['FamilySize'] == 1).astype(int)\n"
   ]
  },
  {
   "cell_type": "markdown",
   "id": "a77aae4b-d806-4fb2-acb0-9d9009981aab",
   "metadata": {},
   "source": [
    "---\n",
    "## Step 7: Standardize Numerical Features\r\n",
    "\r\n",
    "Normalize `Age`, `Fare`, and `FamilySize` using **StandardScaler** to:\r\n",
    "\r\n",
    "- Improve model performance\r\n",
    "- Ensure numerical features are on a comparable scale---l---\n",
    "---\r\n"
   ]
  },
  {
   "cell_type": "code",
   "execution_count": 34,
   "id": "898bf320-5cf0-4059-b111-6aba5f01a47a",
   "metadata": {},
   "outputs": [],
   "source": [
    "from sklearn.preprocessing import StandardScaler"
   ]
  },
  {
   "cell_type": "code",
   "execution_count": 35,
   "id": "404ff8c0-b461-48fb-a4e1-c2eaa517832a",
   "metadata": {},
   "outputs": [],
   "source": [
    "scaler = StandardScaler()\n",
    "num_features = ['Age', 'Fare', 'FamilySize']\n",
    "encoded_df[num_features] = scaler.fit_transform(encoded_df[num_features])"
   ]
  },
  {
   "cell_type": "markdown",
   "id": "dddfd902-6d81-47fa-9627-aec048089743",
   "metadata": {},
   "source": [
    "---\n",
    "## Step 8: Visualize Outliers\n",
    "\n",
    "Use **boxplots** to identify outliers in `Age` and `Fare`. This helps inform the next step—outlier handling.\n",
    "\n",
    "---\n"
   ]
  },
  {
   "cell_type": "code",
   "execution_count": 36,
   "id": "2f971bbf-7403-41e4-b178-7bf36f3ef3c7",
   "metadata": {},
   "outputs": [
    {
     "data": {
      "image/png": "[encoded data removed]",
      "text/plain": [
       "<Figure size 1200x600 with 1 Axes>"
      ]
     },
     "metadata": {},
     "output_type": "display_data"
    }
   ],
   "source": [
    "plt.figure(figsize=(12, 6))\n",
    "sns.boxplot(data=encoded_df[['Age', 'Fare']])\n",
    "plt.title('Boxplots for Outlier Detection')\n",
    "plt.show()"
   ]
  },
  {
   "cell_type": "markdown",
   "id": "818af004-b9d4-4995-bc28-0317fd4054ee",
   "metadata": {},
   "source": [
    "---\n",
    "## Step 9: Drop Outliers Using IQR\r\n",
    "\r\n",
    "Remove extreme outliers in the `Fare` column using the **Interquartile Range (IQR)** method:\r\n",
    "\r\n",
    "- Identify and drop rows where `Fare` lies outside the IQR bounds.\r\n",
    "\r\n",
    "---"
   ]
  },
  {
   "cell_type": "code",
   "execution_count": 37,
   "id": "7ca7d23f-9660-4fce-b27a-2b7fb712346e",
   "metadata": {},
   "outputs": [],
   "source": [
    "Q1 = encoded_df['Fare'].quantile(0.25)\n",
    "Q3 = encoded_df['Fare'].quantile(0.75)\n",
    "IQR = Q3 - Q1\n",
    "encoded_df = encoded_df[(encoded_df['Fare'] >= Q1 - 1.5 * IQR) & (encoded_df['Fare'] <= Q3 + 1.5 * IQR)]"
   ]
  },
  {
   "cell_type": "markdown",
   "id": "f41349c7-e85e-4882-a91a-480e5499cbbf",
   "metadata": {},
   "source": [
    "---\n",
    "\n",
    "## Step 10: Final Preview\n",
    "\n",
    "Display the final cleaned dataset to verify all transformations are applied as expected.\n",
    "\n",
    "---"
   ]
  },
  {
   "cell_type": "code",
   "execution_count": 38,
   "id": "89a78eb2-1b11-457c-9bae-01a29b391f2d",
   "metadata": {},
   "outputs": [
    {
     "name": "stdout",
     "output_type": "stream",
     "text": [
      "\n",
      "--- Cleaned Data Preview ---\n"
     ]
    },
    {
     "data": {
      "text/html": [
       "<div>\n",
       "<style scoped>\n",
       "    .dataframe tbody tr th:only-of-type {\n",
       "        vertical-align: middle;\n",
       "    }\n",
       "\n",
       "    .dataframe tbody tr th {\n",
       "        vertical-align: top;\n",
       "    }\n",
       "\n",
       "    .dataframe thead th {\n",
       "        text-align: right;\n",
       "    }\n",
       "</style>\n",
       "<table border=\"1\" class=\"dataframe\">\n",
       "  <thead>\n",
       "    <tr style=\"text-align: right;\">\n",
       "      <th></th>\n",
       "      <th>PassengerId</th>\n",
       "      <th>Survived</th>\n",
       "      <th>Pclass</th>\n",
       "      <th>Name</th>\n",
       "      <th>Age</th>\n",
       "      <th>SibSp</th>\n",
       "      <th>Parch</th>\n",
       "      <th>Ticket</th>\n",
       "      <th>Fare</th>\n",
       "      <th>Sex_male</th>\n",
       "      <th>Embarked_Q</th>\n",
       "      <th>Embarked_S</th>\n",
       "      <th>FamilySize</th>\n",
       "      <th>IsAlone</th>\n",
       "    </tr>\n",
       "  </thead>\n",
       "  <tbody>\n",
       "    <tr>\n",
       "      <th>0</th>\n",
       "      <td>1</td>\n",
       "      <td>0</td>\n",
       "      <td>3</td>\n",
       "      <td>Braund, Mr. Owen Harris</td>\n",
       "      <td>-0.534891</td>\n",
       "      <td>1</td>\n",
       "      <td>0</td>\n",
       "      <td>A/5 21171</td>\n",
       "      <td>-0.502445</td>\n",
       "      <td>True</td>\n",
       "      <td>False</td>\n",
       "      <td>True</td>\n",
       "      <td>0.059160</td>\n",
       "      <td>0</td>\n",
       "    </tr>\n",
       "    <tr>\n",
       "      <th>2</th>\n",
       "      <td>3</td>\n",
       "      <td>1</td>\n",
       "      <td>3</td>\n",
       "      <td>Heikkinen, Miss. Laina</td>\n",
       "      <td>-0.234070</td>\n",
       "      <td>0</td>\n",
       "      <td>0</td>\n",
       "      <td>STON/O2. 3101282</td>\n",
       "      <td>-0.488854</td>\n",
       "      <td>False</td>\n",
       "      <td>False</td>\n",
       "      <td>True</td>\n",
       "      <td>-0.560975</td>\n",
       "      <td>1</td>\n",
       "    </tr>\n",
       "    <tr>\n",
       "      <th>3</th>\n",
       "      <td>4</td>\n",
       "      <td>1</td>\n",
       "      <td>1</td>\n",
       "      <td>Futrelle, Mrs. Jacques Heath (Lily May Peel)</td>\n",
       "      <td>0.442776</td>\n",
       "      <td>1</td>\n",
       "      <td>0</td>\n",
       "      <td>113803</td>\n",
       "      <td>0.420730</td>\n",
       "      <td>False</td>\n",
       "      <td>False</td>\n",
       "      <td>True</td>\n",
       "      <td>0.059160</td>\n",
       "      <td>0</td>\n",
       "    </tr>\n",
       "    <tr>\n",
       "      <th>4</th>\n",
       "      <td>5</td>\n",
       "      <td>0</td>\n",
       "      <td>3</td>\n",
       "      <td>Allen, Mr. William Henry</td>\n",
       "      <td>0.442776</td>\n",
       "      <td>0</td>\n",
       "      <td>0</td>\n",
       "      <td>373450</td>\n",
       "      <td>-0.486337</td>\n",
       "      <td>True</td>\n",
       "      <td>False</td>\n",
       "      <td>True</td>\n",
       "      <td>-0.560975</td>\n",
       "      <td>1</td>\n",
       "    </tr>\n",
       "    <tr>\n",
       "      <th>5</th>\n",
       "      <td>6</td>\n",
       "      <td>0</td>\n",
       "      <td>3</td>\n",
       "      <td>Moran, Mr. James</td>\n",
       "      <td>-0.309276</td>\n",
       "      <td>0</td>\n",
       "      <td>0</td>\n",
       "      <td>330877</td>\n",
       "      <td>-0.478116</td>\n",
       "      <td>True</td>\n",
       "      <td>True</td>\n",
       "      <td>False</td>\n",
       "      <td>-0.560975</td>\n",
       "      <td>1</td>\n",
       "    </tr>\n",
       "  </tbody>\n",
       "</table>\n",
       "</div>"
      ],
      "text/plain": [
       "   PassengerId  Survived  Pclass  \\\n",
       "0            1         0       3   \n",
       "2            3         1       3   \n",
       "3            4         1       1   \n",
       "4            5         0       3   \n",
       "5            6         0       3   \n",
       "\n",
       "                                           Name       Age  SibSp  Parch  \\\n",
       "0                       Braund, Mr. Owen Harris -0.534891      1      0   \n",
       "2                        Heikkinen, Miss. Laina -0.234070      0      0   \n",
       "3  Futrelle, Mrs. Jacques Heath (Lily May Peel)  0.442776      1      0   \n",
       "4                      Allen, Mr. William Henry  0.442776      0      0   \n",
       "5                              Moran, Mr. James -0.309276      0      0   \n",
       "\n",
       "             Ticket      Fare  Sex_male  Embarked_Q  Embarked_S  FamilySize  \\\n",
       "0         A/5 21171 -0.502445      True       False        True    0.059160   \n",
       "2  STON/O2. 3101282 -0.488854     False       False        True   -0.560975   \n",
       "3            113803  0.420730     False       False        True    0.059160   \n",
       "4            373450 -0.486337      True       False        True   -0.560975   \n",
       "5            330877 -0.478116      True        True       False   -0.560975   \n",
       "\n",
       "   IsAlone  \n",
       "0        0  \n",
       "2        1  \n",
       "3        0  \n",
       "4        1  \n",
       "5        1  "
      ]
     },
     "execution_count": 38,
     "metadata": {},
     "output_type": "execute_result"
    }
   ],
   "source": [
    "print(\"\\n--- Cleaned Data Preview ---\")\n",
    "encoded_df.head()"
   ]
  },
  {
   "cell_type": "markdown",
   "id": "f510abe3-8f9a-40ae-8e68-e54caa4b1ef2",
   "metadata": {},
   "source": [
    "---\n",
    "\n",
    "\n",
    "## Step 11: Save Cleaned Data\r\n",
    "\r\n",
    "Save the cleaned and preprocessed dataset to a new CSV file for use in model training or further analysis.\n",
    ".si---=False)\n",
    "alse)"
   ]
  },
  {
   "cell_type": "code",
   "execution_count": 39,
   "id": "71100a5d-9fd7-442b-a8fc-f498e99eeae7",
   "metadata": {},
   "outputs": [],
   "source": [
    "encoded_df.to_csv('Cleaned_Titanic.csv', index=False)"
   ]
  }
 ],
 "metadata": {
  "kernelspec": {
   "display_name": "Python 3 (ipykernel)",
   "language": "python",
   "name": "python3"
  },
  "language_info": {
   "codemirror_mode": {
    "name": "ipython",
    "version": 3
   },
   "file_extension": ".py",
   "mimetype": "text/x-python",
   "name": "python",
   "nbconvert_exporter": "python",
   "pygments_lexer": "ipython3",
   "version": "3.12.1"
  }
 },
 "nbformat": 4,
 "nbformat_minor": 5
}
